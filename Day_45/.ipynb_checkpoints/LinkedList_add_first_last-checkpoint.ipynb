{
 "cells": [
  {
   "cell_type": "code",
   "execution_count": 46,
   "id": "b7887d95-faba-4deb-9455-0fe68083665d",
   "metadata": {},
   "outputs": [],
   "source": [
    "\n",
    "class Node:\n",
    "    \n",
    "    def __init__(self, data):\n",
    "        self.data = data\n",
    "        self.next = None\n",
    "    \n",
    "    def __repr__(self):\n",
    "        return self.data\n",
    "        \n",
    "class LinkedList:\n",
    "    \n",
    "    def __init__(self, nodes = None):\n",
    "        self.head = None\n",
    "        if nodes is not None:\n",
    "            node = Node(data = nodes.pop(0))\n",
    "            self.head = node\n",
    "            for elem in nodes:\n",
    "                node.next = Node(data = elem)\n",
    "                node = node.next\n",
    "                \n",
    "    def __iter__(self):\n",
    "        node = self.head\n",
    "        while node is not None:\n",
    "            yield node\n",
    "            node = node.next\n",
    "        \n",
    "    def __repr__(self):\n",
    "        node = self.head\n",
    "        nodes = []\n",
    "        while node is not None:\n",
    "            nodes.append(node.data)\n",
    "            node = node.next\n",
    "        nodes.append(\"None\")\n",
    "        return \" -> \".join(nodes)\n",
    "    \n",
    "    def add_first(self, node):\n",
    "        node.next = self.head\n",
    "        self.head = node\n",
    "        \n",
    "    def add_last(self, node):\n",
    "        if not self.head:\n",
    "            self.head = node\n",
    "            return\n",
    "        for current_node in self:\n",
    "            pass\n",
    "        current_node.next = node\n",
    "            "
   ]
  },
  {
   "cell_type": "code",
   "execution_count": 47,
   "id": "a2e8c5bf-cb0e-4cc4-ad6b-a5382c919274",
   "metadata": {},
   "outputs": [
    {
     "name": "stdout",
     "output_type": "stream",
     "text": [
      "d -> e -> f -> None\n",
      "v -> d -> e -> f -> None\n",
      "v -> d -> e -> f -> s -> None\n"
     ]
    }
   ],
   "source": [
    "\n",
    "add_list = ['d', 'e', 'f']\n",
    "lllist = LinkedList(add_list)\n",
    "print(lllist)\n",
    "lllist.add_first(Node('v'))\n",
    "print(lllist)\n",
    "lllist.add_last(Node('s'))\n",
    "print(lllist)\n"
   ]
  }
 ],
 "metadata": {
  "kernelspec": {
   "display_name": "Python 3",
   "language": "python",
   "name": "python3"
  },
  "language_info": {
   "codemirror_mode": {
    "name": "ipython",
    "version": 3
   },
   "file_extension": ".py",
   "mimetype": "text/x-python",
   "name": "python",
   "nbconvert_exporter": "python",
   "pygments_lexer": "ipython3",
   "version": "3.8.10"
  }
 },
 "nbformat": 4,
 "nbformat_minor": 5
}
