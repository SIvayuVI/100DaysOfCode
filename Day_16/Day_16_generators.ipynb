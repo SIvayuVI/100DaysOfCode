{
  "nbformat": 4,
  "nbformat_minor": 0,
  "metadata": {
    "colab": {
      "name": "Day_16_generators.ipynb",
      "provenance": []
    },
    "kernelspec": {
      "name": "python3",
      "display_name": "Python 3"
    },
    "language_info": {
      "name": "python"
    }
  },
  "cells": [
    {
      "cell_type": "markdown",
      "metadata": {
        "id": "LE2hjPAdOBIr"
      },
      "source": [
        "Python Generator Object\n",
        "\n",
        "Generators are mostly used for memory saving, it will not bother about length of the iterator. But it is compromised in terms of speed."
      ]
    },
    {
      "cell_type": "code",
      "metadata": {
        "colab": {
          "base_uri": "https://localhost:8080/"
        },
        "id": "dtTcjtbFPnR-",
        "outputId": "fe4b426a-371a-4a26-8190-c874b81e3b9b"
      },
      "source": [
        "# A tradinal way of printing n numbers\n",
        "def print_n_numbers(num):\n",
        "  for n in range(num+1):\n",
        "    print(n)\n",
        "print_n_numbers(2)"
      ],
      "execution_count": 15,
      "outputs": [
        {
          "output_type": "stream",
          "text": [
            "0\n",
            "1\n",
            "2\n"
          ],
          "name": "stdout"
        }
      ]
    },
    {
      "cell_type": "code",
      "metadata": {
        "colab": {
          "base_uri": "https://localhost:8080/",
          "height": 265
        },
        "id": "LBP8c7bwNcSi",
        "outputId": "029e75ee-1909-4257-98d9-08376da5952c"
      },
      "source": [
        "def print_n_numbers(num):\n",
        "  for n in range(num+1):\n",
        "    yield n\n",
        "\n",
        "g = print_n_numbers(2)\n",
        "print(g) # Generator object is created\n",
        "print(next(g),'first call')\n",
        "print(next(g), 'second call')\n",
        "print(next(g), 'third call') \n",
        "print(next(g), 'final call') # So it is working like pause and play till end point\n"
      ],
      "execution_count": 16,
      "outputs": [
        {
          "output_type": "stream",
          "text": [
            "<generator object print_n_numbers at 0x7f7a5c0aead0>\n",
            "0 first call\n",
            "1 second call\n",
            "2 third call\n"
          ],
          "name": "stdout"
        },
        {
          "output_type": "error",
          "ename": "StopIteration",
          "evalue": "ignored",
          "traceback": [
            "\u001b[0;31m---------------------------------------------------------------------------\u001b[0m",
            "\u001b[0;31mStopIteration\u001b[0m                             Traceback (most recent call last)",
            "\u001b[0;32m<ipython-input-16-3a9a2c800735>\u001b[0m in \u001b[0;36m<module>\u001b[0;34m()\u001b[0m\n\u001b[1;32m      8\u001b[0m \u001b[0mprint\u001b[0m\u001b[0;34m(\u001b[0m\u001b[0mnext\u001b[0m\u001b[0;34m(\u001b[0m\u001b[0mg\u001b[0m\u001b[0;34m)\u001b[0m\u001b[0;34m,\u001b[0m \u001b[0;34m'second call'\u001b[0m\u001b[0;34m)\u001b[0m\u001b[0;34m\u001b[0m\u001b[0;34m\u001b[0m\u001b[0m\n\u001b[1;32m      9\u001b[0m \u001b[0mprint\u001b[0m\u001b[0;34m(\u001b[0m\u001b[0mnext\u001b[0m\u001b[0;34m(\u001b[0m\u001b[0mg\u001b[0m\u001b[0;34m)\u001b[0m\u001b[0;34m,\u001b[0m \u001b[0;34m'third call'\u001b[0m\u001b[0;34m)\u001b[0m\u001b[0;34m\u001b[0m\u001b[0;34m\u001b[0m\u001b[0m\n\u001b[0;32m---> 10\u001b[0;31m \u001b[0mprint\u001b[0m\u001b[0;34m(\u001b[0m\u001b[0mnext\u001b[0m\u001b[0;34m(\u001b[0m\u001b[0mg\u001b[0m\u001b[0;34m)\u001b[0m\u001b[0;34m,\u001b[0m \u001b[0;34m'final call'\u001b[0m\u001b[0;34m)\u001b[0m \u001b[0;31m# So it is working like pause and play till end point\u001b[0m\u001b[0;34m\u001b[0m\u001b[0;34m\u001b[0m\u001b[0m\n\u001b[0m",
            "\u001b[0;31mStopIteration\u001b[0m: "
          ]
        }
      ]
    },
    {
      "cell_type": "code",
      "metadata": {
        "colab": {
          "base_uri": "https://localhost:8080/"
        },
        "id": "S4jcsSsbOz6R",
        "outputId": "10b7b973-da63-44d5-d22f-607dfbe52baa"
      },
      "source": [
        "numbers_lc = [i for i in range(100000)] # Using list comprehension\n",
        "numbers_gc = (i for i in range(100000)) # Using generator comprehension\n",
        "print(sum(numbers_lc))\n",
        "print(sum(numbers_gc))\n",
        "import sys\n",
        "print(sys.getsizeof(numbers_lc), 'memory size using list comprehension')\n",
        "print(sys.getsizeof(numbers_gc), 'memory size using generator comprehension')\n",
        "#As per the result, the generator will use always less memory based on element in the iterator"
      ],
      "execution_count": 28,
      "outputs": [
        {
          "output_type": "stream",
          "text": [
            "4999950000\n",
            "4999950000\n",
            "824472 memory size using list comprehension\n",
            "128 memory size using generator comprehension\n"
          ],
          "name": "stdout"
        }
      ]
    },
    {
      "cell_type": "code",
      "metadata": {
        "id": "fx49BR3fQr7s"
      },
      "source": [
        ""
      ],
      "execution_count": null,
      "outputs": []
    }
  ]
}