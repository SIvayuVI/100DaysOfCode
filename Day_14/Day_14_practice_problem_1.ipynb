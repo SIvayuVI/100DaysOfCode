{
  "nbformat": 4,
  "nbformat_minor": 0,
  "metadata": {
    "colab": {
      "name": "Day_14_practice_problem_1.ipynb",
      "provenance": [],
      "authorship_tag": "ABX9TyMFC424bqjKPYkzVMPAy53i",
      "include_colab_link": true
    },
    "kernelspec": {
      "name": "python3",
      "display_name": "Python 3"
    },
    "language_info": {
      "name": "python"
    }
  },
  "cells": [
    {
      "cell_type": "markdown",
      "metadata": {
        "id": "view-in-github",
        "colab_type": "text"
      },
      "source": [
        "<a href=\"https://colab.research.google.com/github/SIvayuVI/100DaysOfCode/blob/main/Day_14_practice_problem_1.ipynb\" target=\"_parent\"><img src=\"https://colab.research.google.com/assets/colab-badge.svg\" alt=\"Open In Colab\"/></a>"
      ]
    },
    {
      "cell_type": "markdown",
      "metadata": {
        "id": "FG8ohdoxDTkp"
      },
      "source": [
        "**QUESTION**\n",
        " \n",
        "Given an array of integers, sort the array elements by its number of divisors. If two \n",
        "numbers have the same number of divisors, choose the greater number. \n",
        " \n",
        "Input: \n",
        "1 2 3 4 5 6 7 8 9 \n",
        "Output: \n",
        "1 7 5 3 2 9 4 8 6  "
      ]
    },
    {
      "cell_type": "code",
      "metadata": {
        "colab": {
          "base_uri": "https://localhost:8080/"
        },
        "id": "pFYWhVP5DBSJ",
        "outputId": "a2dfad96-ae05-4a7b-e239-14f4ba7d4cd4"
      },
      "source": [
        "input_list = [1,2,3,4,5,6,7,8,9]\n",
        "from  collections import OrderedDict, defaultdict\n",
        "dic = {}\n",
        "for i in input_list:\n",
        "  count = 0\n",
        "  for j in range(1, i+1):\n",
        "    if i%j == 0:\n",
        "      count+=1\n",
        "      dic[i] = count\n",
        "dic = OrderedDict(dic)\n",
        "for k, v in sorted(dic.items(), key= lambda item : item[1]):\n",
        "  dic.move_to_end(k)\n",
        "new_dic = defaultdict(list)\n",
        "for k, v in dic.items():\n",
        "  new_dic[v].append(k)\n",
        "  new_dic[v] = list(reversed(new_dic[v]))\n",
        "em = []\n",
        "for i in new_dic.values():\n",
        "  em = em + i\n",
        "\n",
        "em"
      ],
      "execution_count": 53,
      "outputs": [
        {
          "output_type": "execute_result",
          "data": {
            "text/plain": [
              "[1, 7, 3, 2, 5, 9, 4, 8, 6]"
            ]
          },
          "metadata": {
            "tags": []
          },
          "execution_count": 53
        }
      ]
    },
    {
      "cell_type": "code",
      "metadata": {
        "id": "nBKpdLjmDp5U"
      },
      "source": [
        ""
      ],
      "execution_count": null,
      "outputs": []
    }
  ]
}