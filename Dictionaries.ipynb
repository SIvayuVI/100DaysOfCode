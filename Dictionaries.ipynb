{
  "nbformat": 4,
  "nbformat_minor": 0,
  "metadata": {
    "colab": {
      "name": "Dictionaries.ipynb",
      "provenance": [],
      "toc_visible": true,
      "authorship_tag": "ABX9TyMPxiFb2wEJ3UfTh8Cvaj+7",
      "include_colab_link": true
    },
    "kernelspec": {
      "name": "python3",
      "display_name": "Python 3"
    },
    "language_info": {
      "name": "python"
    }
  },
  "cells": [
    {
      "cell_type": "markdown",
      "metadata": {
        "id": "view-in-github",
        "colab_type": "text"
      },
      "source": [
        "<a href=\"https://colab.research.google.com/github/SIvayuVI/100DaysOfCode/blob/main/Dictionaries.ipynb\" target=\"_parent\"><img src=\"https://colab.research.google.com/assets/colab-badge.svg\" alt=\"Open In Colab\"/></a>"
      ]
    },
    {
      "cell_type": "markdown",
      "metadata": {
        "id": "BOHVDQFse7n3"
      },
      "source": [
        "**Dictionaries** are mutable. TYpically A python dictinary can be declare with key pair of elements and all elements are seperated by comma(,) and all key value pairs are enclosed by curily braces({}).\n",
        "\n",
        "Dictinaries are accessible by keys. We can do the following thing with dictionaries. \n",
        "\n",
        "*   Update\n",
        "*   Delete\n",
        "*   Insert and much more\n",
        "\n"
      ]
    },
    {
      "cell_type": "code",
      "metadata": {
        "id": "CCkqU-3Mf7ua",
        "colab": {
          "base_uri": "https://localhost:8080/"
        },
        "outputId": "e1ae33d3-fc67-47c1-80ca-2a354c041199"
      },
      "source": [
        "#defining dictionary\n",
        "#Way 1\n",
        "commercial_hadoop_vendors = {\n",
        "    \"Amazon\" : \"Elastic MapReduce\",\n",
        "    \"Cloudera\" : \"Cloudera Hadoop Distribution\",\n",
        "    \"IBM\" : \"BigInsights\",\n",
        "    \"Microsoft\" : \"Microsoft\"\n",
        "}\n",
        "commercial_hadoop_vendors"
      ],
      "execution_count": 1,
      "outputs": [
        {
          "output_type": "execute_result",
          "data": {
            "text/plain": [
              "{'Amazon': 'Elastic MapReduce',\n",
              " 'Cloudera': 'Cloudera Hadoop Distribution',\n",
              " 'IBM': 'BigInsights',\n",
              " 'Microsoft': 'Microsoft'}"
            ]
          },
          "metadata": {
            "tags": []
          },
          "execution_count": 1
        }
      ]
    },
    {
      "cell_type": "code",
      "metadata": {
        "id": "8aWslxTTgSkr",
        "colab": {
          "base_uri": "https://localhost:8080/"
        },
        "outputId": "3f7713bb-1749-49f2-ad1c-0dce447fd12a"
      },
      "source": [
        "#Way 2\n",
        "#Notably key word should not be in quotes\n",
        "commercial_hadoop_vendors = dict(\n",
        "    Amazon = \"Elastic MapReduce\",\n",
        "    Cloudera = \"Cloudera Hadoop Distribution\",\n",
        "    IBM = \"BigInsights\",\n",
        "    Microsoft = \"Microsoft\"\n",
        ")\n",
        "commercial_hadoop_vendors"
      ],
      "execution_count": 2,
      "outputs": [
        {
          "output_type": "execute_result",
          "data": {
            "text/plain": [
              "{'Amazon': 'Elastic MapReduce',\n",
              " 'Cloudera': 'Cloudera Hadoop Distribution',\n",
              " 'IBM': 'BigInsights',\n",
              " 'Microsoft': 'Microsoft'}"
            ]
          },
          "metadata": {
            "tags": []
          },
          "execution_count": 2
        }
      ]
    },
    {
      "cell_type": "code",
      "metadata": {
        "id": "0mBCnCDNlOML",
        "colab": {
          "base_uri": "https://localhost:8080/"
        },
        "outputId": "5d6d3179-a600-4375-af1f-e2c2a9abec26"
      },
      "source": [
        "#Way 3\n",
        "#From List of tuples\n",
        "commercial_hadoop_vendors = dict([\n",
        "    (\"Amazon\" , \"Elastic MapReduce\"),\n",
        "    (\"Cloudera\" , \"Cloudera Hadoop Distribution\"),\n",
        "    (\"IBM\" , \"BigInsights\"),\n",
        "    (\"Microsoft\" , \"Microsoft\")\n",
        "])\n",
        "commercial_hadoop_vendors"
      ],
      "execution_count": 3,
      "outputs": [
        {
          "output_type": "execute_result",
          "data": {
            "text/plain": [
              "{'Amazon': 'Elastic MapReduce',\n",
              " 'Cloudera': 'Cloudera Hadoop Distribution',\n",
              " 'IBM': 'BigInsights',\n",
              " 'Microsoft': 'Microsoft'}"
            ]
          },
          "metadata": {
            "tags": []
          },
          "execution_count": 3
        }
      ]
    },
    {
      "cell_type": "code",
      "metadata": {
        "id": "q7VrCtykmmak",
        "colab": {
          "base_uri": "https://localhost:8080/"
        },
        "outputId": "1e320db7-1e71-414a-ce63-e5aa295f70f1"
      },
      "source": [
        "type(commercial_hadoop_vendors)"
      ],
      "execution_count": 4,
      "outputs": [
        {
          "output_type": "execute_result",
          "data": {
            "text/plain": [
              "dict"
            ]
          },
          "metadata": {
            "tags": []
          },
          "execution_count": 4
        }
      ]
    },
    {
      "cell_type": "markdown",
      "metadata": {
        "id": "CVYGHHKSl8M5"
      },
      "source": [
        "We can access the dictionary values by key\n"
      ]
    },
    {
      "cell_type": "code",
      "metadata": {
        "id": "PHCbzj8VmC7S",
        "colab": {
          "base_uri": "https://localhost:8080/",
          "height": 35
        },
        "outputId": "3800efce-f83d-4c6b-e38b-bd7a9fbdd4ff"
      },
      "source": [
        "commercial_hadoop_vendors['Amazon']\n"
      ],
      "execution_count": 5,
      "outputs": [
        {
          "output_type": "execute_result",
          "data": {
            "application/vnd.google.colaboratory.intrinsic+json": {
              "type": "string"
            },
            "text/plain": [
              "'Elastic MapReduce'"
            ]
          },
          "metadata": {
            "tags": []
          },
          "execution_count": 5
        }
      ]
    },
    {
      "cell_type": "code",
      "metadata": {
        "id": "ecN2Df-DmGQl",
        "colab": {
          "base_uri": "https://localhost:8080/",
          "height": 35
        },
        "outputId": "57cf28d6-3bfb-4477-f1a8-3600fe590658"
      },
      "source": [
        "commercial_hadoop_vendors.get('Amazon')"
      ],
      "execution_count": 6,
      "outputs": [
        {
          "output_type": "execute_result",
          "data": {
            "application/vnd.google.colaboratory.intrinsic+json": {
              "type": "string"
            },
            "text/plain": [
              "'Elastic MapReduce'"
            ]
          },
          "metadata": {
            "tags": []
          },
          "execution_count": 6
        }
      ]
    },
    {
      "cell_type": "markdown",
      "metadata": {
        "id": "o5xnIclemuaK"
      },
      "source": [
        "There is no indexing cocept in Dictionaries like lists in python. So we can't access the values by index"
      ]
    },
    {
      "cell_type": "code",
      "metadata": {
        "id": "MkykwWx-mbxZ",
        "colab": {
          "base_uri": "https://localhost:8080/",
          "height": 163
        },
        "outputId": "f2d7107c-4eb3-4141-9abe-9f33480541ef"
      },
      "source": [
        "commercial_hadoop_vendors[1]"
      ],
      "execution_count": 7,
      "outputs": [
        {
          "output_type": "error",
          "ename": "KeyError",
          "evalue": "ignored",
          "traceback": [
            "\u001b[0;31m---------------------------------------------------------------------------\u001b[0m",
            "\u001b[0;31mKeyError\u001b[0m                                  Traceback (most recent call last)",
            "\u001b[0;32m<ipython-input-7-43691d11fe8b>\u001b[0m in \u001b[0;36m<module>\u001b[0;34m()\u001b[0m\n\u001b[0;32m----> 1\u001b[0;31m \u001b[0mcommercial_hadoop_vendors\u001b[0m\u001b[0;34m[\u001b[0m\u001b[0;36m1\u001b[0m\u001b[0;34m]\u001b[0m\u001b[0;34m\u001b[0m\u001b[0;34m\u001b[0m\u001b[0m\n\u001b[0m",
            "\u001b[0;31mKeyError\u001b[0m: 1"
          ]
        }
      ]
    },
    {
      "cell_type": "code",
      "metadata": {
        "id": "wqmuvpd2m7G9",
        "colab": {
          "base_uri": "https://localhost:8080/",
          "height": 180
        },
        "outputId": "7625074d-5a06-482f-cb41-0fb478f98141"
      },
      "source": [
        "commercial_hadoop_vendors[\"Google\"]\n",
        "#Key error when requested key is not there in the list"
      ],
      "execution_count": 8,
      "outputs": [
        {
          "output_type": "error",
          "ename": "KeyError",
          "evalue": "ignored",
          "traceback": [
            "\u001b[0;31m---------------------------------------------------------------------------\u001b[0m",
            "\u001b[0;31mKeyError\u001b[0m                                  Traceback (most recent call last)",
            "\u001b[0;32m<ipython-input-8-f6e985ad2a99>\u001b[0m in \u001b[0;36m<module>\u001b[0;34m()\u001b[0m\n\u001b[0;32m----> 1\u001b[0;31m \u001b[0mcommercial_hadoop_vendors\u001b[0m\u001b[0;34m[\u001b[0m\u001b[0;34m\"Google\"\u001b[0m\u001b[0;34m]\u001b[0m\u001b[0;34m\u001b[0m\u001b[0;34m\u001b[0m\u001b[0m\n\u001b[0m\u001b[1;32m      2\u001b[0m \u001b[0;31m#Key error when requested key is not there in the list\u001b[0m\u001b[0;34m\u001b[0m\u001b[0;34m\u001b[0m\u001b[0;34m\u001b[0m\u001b[0m\n",
            "\u001b[0;31mKeyError\u001b[0m: 'Google'"
          ]
        }
      ]
    },
    {
      "cell_type": "markdown",
      "metadata": {
        "id": "y2e6Vl5gnrqF"
      },
      "source": [
        "Update and Insert can be done with simple and same like syntax"
      ]
    },
    {
      "cell_type": "code",
      "metadata": {
        "id": "dX7pJrvKnNPb",
        "colab": {
          "base_uri": "https://localhost:8080/"
        },
        "outputId": "2f888e06-b896-408a-98a8-3ea6cad570fa"
      },
      "source": [
        "#Insert\n",
        "commercial_hadoop_vendors[\"Google\"] = \"data\"\n",
        "commercial_hadoop_vendors\n",
        "#looks like dictionaries are default key ordered nott insertion order"
      ],
      "execution_count": 9,
      "outputs": [
        {
          "output_type": "execute_result",
          "data": {
            "text/plain": [
              "{'Amazon': 'Elastic MapReduce',\n",
              " 'Cloudera': 'Cloudera Hadoop Distribution',\n",
              " 'Google': 'data',\n",
              " 'IBM': 'BigInsights',\n",
              " 'Microsoft': 'Microsoft'}"
            ]
          },
          "metadata": {
            "tags": []
          },
          "execution_count": 9
        }
      ]
    },
    {
      "cell_type": "code",
      "metadata": {
        "id": "U8D8hSBKnzVo",
        "colab": {
          "base_uri": "https://localhost:8080/"
        },
        "outputId": "abbb7305-43ec-44c9-ceea-24e645d790d9"
      },
      "source": [
        "#Update\n",
        "commercial_hadoop_vendors[\"Google\"] = \"Data Proc\"\n",
        "commercial_hadoop_vendors[\"MapR\"] = \"MapR HDFS\"\n",
        "commercial_hadoop_vendors"
      ],
      "execution_count": 10,
      "outputs": [
        {
          "output_type": "execute_result",
          "data": {
            "text/plain": [
              "{'Amazon': 'Elastic MapReduce',\n",
              " 'Cloudera': 'Cloudera Hadoop Distribution',\n",
              " 'Google': 'Data Proc',\n",
              " 'IBM': 'BigInsights',\n",
              " 'MapR': 'MapR HDFS',\n",
              " 'Microsoft': 'Microsoft'}"
            ]
          },
          "metadata": {
            "tags": []
          },
          "execution_count": 10
        }
      ]
    },
    {
      "cell_type": "code",
      "metadata": {
        "id": "RaLilmohoRHG",
        "colab": {
          "base_uri": "https://localhost:8080/"
        },
        "outputId": "6618fa9a-0829-42e3-e63b-6bd1ae78863a"
      },
      "source": [
        "#Deleting the key value pair\n",
        "del commercial_hadoop_vendors[\"MapR\"]\n",
        "commercial_hadoop_vendors"
      ],
      "execution_count": 11,
      "outputs": [
        {
          "output_type": "execute_result",
          "data": {
            "text/plain": [
              "{'Amazon': 'Elastic MapReduce',\n",
              " 'Cloudera': 'Cloudera Hadoop Distribution',\n",
              " 'Google': 'Data Proc',\n",
              " 'IBM': 'BigInsights',\n",
              " 'Microsoft': 'Microsoft'}"
            ]
          },
          "metadata": {
            "tags": []
          },
          "execution_count": 11
        }
      ]
    },
    {
      "cell_type": "markdown",
      "metadata": {
        "id": "cgFJCIJfoxbY"
      },
      "source": [
        "Immutable data types can be used as key like string, numbers and even tuples. list can't be a key anymore why because lists are mutable"
      ]
    },
    {
      "cell_type": "code",
      "metadata": {
        "id": "8amsj8PWoixU",
        "colab": {
          "base_uri": "https://localhost:8080/"
        },
        "outputId": "baa3b1fa-8f81-46eb-dae5-b6da77c58c2c"
      },
      "source": [
        "alpha_numeric = {\n",
        "    1 : \"a\",\n",
        "    2 : \"b\",\n",
        "    3 : \"c\"\n",
        "}\n",
        "alpha_numeric"
      ],
      "execution_count": 12,
      "outputs": [
        {
          "output_type": "execute_result",
          "data": {
            "text/plain": [
              "{1: 'a', 2: 'b', 3: 'c'}"
            ]
          },
          "metadata": {
            "tags": []
          },
          "execution_count": 12
        }
      ]
    },
    {
      "cell_type": "code",
      "metadata": {
        "id": "FlF0F4ADpDUY",
        "colab": {
          "base_uri": "https://localhost:8080/",
          "height": 35
        },
        "outputId": "b5462ecd-4588-43d1-822e-573b0fdde99a"
      },
      "source": [
        "#Now the keys are looks like index\n",
        "alpha_numeric[1]"
      ],
      "execution_count": 13,
      "outputs": [
        {
          "output_type": "execute_result",
          "data": {
            "application/vnd.google.colaboratory.intrinsic+json": {
              "type": "string"
            },
            "text/plain": [
              "'a'"
            ]
          },
          "metadata": {
            "tags": []
          },
          "execution_count": 13
        }
      ]
    },
    {
      "cell_type": "markdown",
      "metadata": {
        "id": "jta3YMtRqlcU"
      },
      "source": [
        "Any data type can be used as value in dictionary like list, string, number,tuple even we can have dictionary inside dictionary"
      ]
    },
    {
      "cell_type": "code",
      "metadata": {
        "id": "hdYEUpV0pNN2"
      },
      "source": [
        "test_dict = {\n",
        "    1 : ['a','b','c'],\n",
        "    'vowels' : ['a', 'e', 'i', 'o', 'u'],\n",
        "    'new_dict' : {\n",
        "        'a' : 2,\n",
        "        'b' : 3\n",
        "    }\n",
        "}"
      ],
      "execution_count": 14,
      "outputs": []
    },
    {
      "cell_type": "code",
      "metadata": {
        "id": "iML_csharRi1",
        "colab": {
          "base_uri": "https://localhost:8080/"
        },
        "outputId": "a47ed5e0-311e-482e-97d4-a9d65635d60b"
      },
      "source": [
        "test_dict"
      ],
      "execution_count": 15,
      "outputs": [
        {
          "output_type": "execute_result",
          "data": {
            "text/plain": [
              "{1: ['a', 'b', 'c'],\n",
              " 'new_dict': {'a': 2, 'b': 3},\n",
              " 'vowels': ['a', 'e', 'i', 'o', 'u']}"
            ]
          },
          "metadata": {
            "tags": []
          },
          "execution_count": 15
        }
      ]
    },
    {
      "cell_type": "code",
      "metadata": {
        "id": "34fiCcMcrVsU",
        "colab": {
          "base_uri": "https://localhost:8080/"
        },
        "outputId": "05941b98-c1ee-4bc1-dd7c-f9e3d7d5aa6d"
      },
      "source": [
        "test_dict[1]"
      ],
      "execution_count": 16,
      "outputs": [
        {
          "output_type": "execute_result",
          "data": {
            "text/plain": [
              "['a', 'b', 'c']"
            ]
          },
          "metadata": {
            "tags": []
          },
          "execution_count": 16
        }
      ]
    },
    {
      "cell_type": "code",
      "metadata": {
        "id": "UHzJPbJErY82",
        "colab": {
          "base_uri": "https://localhost:8080/",
          "height": 35
        },
        "outputId": "f055d618-14c1-4151-e2fd-4c0e4a3b99fc"
      },
      "source": [
        "test_dict[1][2]"
      ],
      "execution_count": 17,
      "outputs": [
        {
          "output_type": "execute_result",
          "data": {
            "application/vnd.google.colaboratory.intrinsic+json": {
              "type": "string"
            },
            "text/plain": [
              "'c'"
            ]
          },
          "metadata": {
            "tags": []
          },
          "execution_count": 17
        }
      ]
    },
    {
      "cell_type": "code",
      "metadata": {
        "id": "EPeLjmGyrbuM",
        "colab": {
          "base_uri": "https://localhost:8080/"
        },
        "outputId": "ca1e31f7-fe66-40ee-f9e5-b5d729f2335c"
      },
      "source": [
        "test_dict['new_dict'].get('a')"
      ],
      "execution_count": 18,
      "outputs": [
        {
          "output_type": "execute_result",
          "data": {
            "text/plain": [
              "2"
            ]
          },
          "metadata": {
            "tags": []
          },
          "execution_count": 18
        }
      ]
    },
    {
      "cell_type": "code",
      "metadata": {
        "id": "zvpGX8aerioD",
        "colab": {
          "base_uri": "https://localhost:8080/",
          "height": 35
        },
        "outputId": "2793c6b4-a176-4545-99b5-4172edfd37da"
      },
      "source": [
        "test_dict['vowels'][1]"
      ],
      "execution_count": 19,
      "outputs": [
        {
          "output_type": "execute_result",
          "data": {
            "application/vnd.google.colaboratory.intrinsic+json": {
              "type": "string"
            },
            "text/plain": [
              "'e'"
            ]
          },
          "metadata": {
            "tags": []
          },
          "execution_count": 19
        }
      ]
    },
    {
      "cell_type": "markdown",
      "metadata": {
        "id": "nf-hSbapsl08"
      },
      "source": [
        "We can do some other operations like comparision"
      ]
    },
    {
      "cell_type": "code",
      "metadata": {
        "id": "uAW9RWhBrpZX",
        "colab": {
          "base_uri": "https://localhost:8080/"
        },
        "outputId": "a8e81a4b-4732-40f4-9dca-7f58ce411efc"
      },
      "source": [
        "test_dict['vowels'] == test_dict[\"new_dict\"]"
      ],
      "execution_count": 20,
      "outputs": [
        {
          "output_type": "execute_result",
          "data": {
            "text/plain": [
              "False"
            ]
          },
          "metadata": {
            "tags": []
          },
          "execution_count": 20
        }
      ]
    },
    {
      "cell_type": "markdown",
      "metadata": {
        "id": "LWXoy2Ios7W-"
      },
      "source": [
        "Some of basic built in functions in dict\n",
        "\n",
        "\n",
        "*   dict.get()\n",
        "*   dict.pop()\n",
        "*   dict.items()\n",
        "*   dict.values()\n",
        "*   dict.keys()\n",
        "*   dict.clear()\n",
        "\n"
      ]
    },
    {
      "cell_type": "code",
      "metadata": {
        "id": "Tt6K6HTys2rP",
        "colab": {
          "base_uri": "https://localhost:8080/"
        },
        "outputId": "a20c2a88-5a08-45e5-b701-4431daa73a59"
      },
      "source": [
        "# dict.get()\n",
        "# It will return if the values are present if not it will not throw instead it will print empty or it will show your default value\n",
        "test_dict.get(\"vowels\")"
      ],
      "execution_count": 21,
      "outputs": [
        {
          "output_type": "execute_result",
          "data": {
            "text/plain": [
              "['a', 'e', 'i', 'o', 'u']"
            ]
          },
          "metadata": {
            "tags": []
          },
          "execution_count": 21
        }
      ]
    },
    {
      "cell_type": "code",
      "metadata": {
        "id": "veL34VCjttcr",
        "colab": {
          "base_uri": "https://localhost:8080/",
          "height": 35
        },
        "outputId": "41b5ba28-d903-4fe2-959f-058829fe02bb"
      },
      "source": [
        "test_dict.get(\"voweelss\", \"Its not there\")"
      ],
      "execution_count": 22,
      "outputs": [
        {
          "output_type": "execute_result",
          "data": {
            "application/vnd.google.colaboratory.intrinsic+json": {
              "type": "string"
            },
            "text/plain": [
              "'Its not there'"
            ]
          },
          "metadata": {
            "tags": []
          },
          "execution_count": 22
        }
      ]
    },
    {
      "cell_type": "code",
      "metadata": {
        "id": "EFEEXPuzt2Fg",
        "colab": {
          "base_uri": "https://localhost:8080/"
        },
        "outputId": "a81ef0da-2d70-4784-f34d-09ca50228ed4"
      },
      "source": [
        "# dict.pop()\n",
        "# Like list pop, here pop will remove specified key and return the deleted values\n",
        "test_dict.pop(\"vowels\")"
      ],
      "execution_count": 23,
      "outputs": [
        {
          "output_type": "execute_result",
          "data": {
            "text/plain": [
              "['a', 'e', 'i', 'o', 'u']"
            ]
          },
          "metadata": {
            "tags": []
          },
          "execution_count": 23
        }
      ]
    },
    {
      "cell_type": "code",
      "metadata": {
        "id": "bVf1ctreuL5J",
        "colab": {
          "base_uri": "https://localhost:8080/"
        },
        "outputId": "c2ca78b3-57de-48cf-812a-eb7c898bf62a"
      },
      "source": [
        "# dict.items()\n",
        "# It will give you the iterable object\n",
        "list(test_dict.items())"
      ],
      "execution_count": 24,
      "outputs": [
        {
          "output_type": "execute_result",
          "data": {
            "text/plain": [
              "[(1, ['a', 'b', 'c']), ('new_dict', {'a': 2, 'b': 3})]"
            ]
          },
          "metadata": {
            "tags": []
          },
          "execution_count": 24
        }
      ]
    },
    {
      "cell_type": "code",
      "metadata": {
        "id": "ZFy7x38vudgv",
        "colab": {
          "base_uri": "https://localhost:8080/"
        },
        "outputId": "a063bf7c-8e81-41dd-96af-1f7a804e0ad2"
      },
      "source": [
        "# dict.values()\n",
        "test_dict.values()"
      ],
      "execution_count": 25,
      "outputs": [
        {
          "output_type": "execute_result",
          "data": {
            "text/plain": [
              "dict_values([['a', 'b', 'c'], {'a': 2, 'b': 3}])"
            ]
          },
          "metadata": {
            "tags": []
          },
          "execution_count": 25
        }
      ]
    },
    {
      "cell_type": "code",
      "metadata": {
        "id": "0Di8ZIumu8hF",
        "colab": {
          "base_uri": "https://localhost:8080/"
        },
        "outputId": "85fcab20-4b3d-4f9f-a759-f49e2bcb8c01"
      },
      "source": [
        "# dict.keys()\n",
        "test_dict.keys()"
      ],
      "execution_count": 26,
      "outputs": [
        {
          "output_type": "execute_result",
          "data": {
            "text/plain": [
              "dict_keys([1, 'new_dict'])"
            ]
          },
          "metadata": {
            "tags": []
          },
          "execution_count": 26
        }
      ]
    },
    {
      "cell_type": "code",
      "metadata": {
        "id": "i7o0wwoIvMPY"
      },
      "source": [
        "# dict.update\n",
        "# We can add two or more dict via update method\n",
        "final = commercial_hadoop_vendors.update(alpha_numeric)"
      ],
      "execution_count": 27,
      "outputs": []
    },
    {
      "cell_type": "code",
      "metadata": {
        "id": "7ogx-ht-vfNv"
      },
      "source": [
        "final"
      ],
      "execution_count": 28,
      "outputs": []
    },
    {
      "cell_type": "code",
      "metadata": {
        "id": "kAVX4wMfvm5v"
      },
      "source": [
        "test_dict.clear()"
      ],
      "execution_count": 29,
      "outputs": []
    },
    {
      "cell_type": "code",
      "metadata": {
        "id": "oN-gGSMOv3pd",
        "colab": {
          "base_uri": "https://localhost:8080/"
        },
        "outputId": "91e09da8-c2a5-4690-d6d8-467391f60c1f"
      },
      "source": [
        "test_dict"
      ],
      "execution_count": 30,
      "outputs": [
        {
          "output_type": "execute_result",
          "data": {
            "text/plain": [
              "{}"
            ]
          },
          "metadata": {
            "tags": []
          },
          "execution_count": 30
        }
      ]
    },
    {
      "cell_type": "code",
      "metadata": {
        "id": "26PstQrqv5Sn"
      },
      "source": [
        ""
      ],
      "execution_count": 30,
      "outputs": []
    }
  ]
}