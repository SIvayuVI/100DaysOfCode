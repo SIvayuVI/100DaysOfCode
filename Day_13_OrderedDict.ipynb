{
  "nbformat": 4,
  "nbformat_minor": 0,
  "metadata": {
    "colab": {
      "name": "Day_13_OrderedDict.ipynb",
      "provenance": [],
      "authorship_tag": "ABX9TyNfS7oEBPZGmp5uLFrWX1Kw",
      "include_colab_link": true
    },
    "kernelspec": {
      "name": "python3",
      "display_name": "Python 3"
    },
    "language_info": {
      "name": "python"
    }
  },
  "cells": [
    {
      "cell_type": "markdown",
      "metadata": {
        "id": "view-in-github",
        "colab_type": "text"
      },
      "source": [
        "<a href=\"https://colab.research.google.com/github/SIvayuVI/100DaysOfCode/blob/main/Day_13_OrderedDict.ipynb\" target=\"_parent\"><img src=\"https://colab.research.google.com/assets/colab-badge.svg\" alt=\"Open In Colab\"/></a>"
      ]
    },
    {
      "cell_type": "markdown",
      "metadata": {
        "id": "QyhQmQ8NxoXf"
      },
      "source": [
        "OrderedDict Usually used for maintain the insertion odere in the dictionary.\n",
        "This is the sub class of dict so it will have all the features available in the dict class and also have some external features like .move_to_end() and .popitems()\n",
        "\n",
        "The orderedDict is not available in core python but its available in built in function. this need to be imported from collections\n",
        "\n",
        "It will consume more time compared to core python dict and consume less in memory."
      ]
    },
    {
      "cell_type": "code",
      "metadata": {
        "colab": {
          "base_uri": "https://localhost:8080/",
          "height": 129
        },
        "id": "zRCIu1jTxApU",
        "outputId": "60ab0d99-a63b-45b0-e511-da50324d13c7"
      },
      "source": [
        ""
      ],
      "execution_count": 1,
      "outputs": [
        {
          "output_type": "error",
          "ename": "SyntaxError",
          "evalue": "ignored",
          "traceback": [
            "\u001b[0;36m  File \u001b[0;32m\"<ipython-input-1-5ab3329cef5f>\"\u001b[0;36m, line \u001b[0;32m1\u001b[0m\n\u001b[0;31m    OrderedDict Usually used for maintain the insertion odere in the dictionary.\u001b[0m\n\u001b[0m                      ^\u001b[0m\n\u001b[0;31mSyntaxError\u001b[0m\u001b[0;31m:\u001b[0m invalid syntax\n"
          ]
        }
      ]
    },
    {
      "cell_type": "markdown",
      "metadata": {
        "id": "9BjjsilwxLj4"
      },
      "source": [
        ""
      ]
    }
  ]
}