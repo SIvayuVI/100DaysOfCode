{
  "nbformat": 4,
  "nbformat_minor": 0,
  "metadata": {
    "colab": {
      "name": "Day_13_OrderedDict.ipynb",
      "provenance": [],
      "authorship_tag": "ABX9TyN6MY0oLVBit7uo+jiifXFK",
      "include_colab_link": true
    },
    "kernelspec": {
      "name": "python3",
      "display_name": "Python 3"
    },
    "language_info": {
      "name": "python"
    }
  },
  "cells": [
    {
      "cell_type": "markdown",
      "metadata": {
        "id": "view-in-github",
        "colab_type": "text"
      },
      "source": [
        "<a href=\"https://colab.research.google.com/github/SIvayuVI/100DaysOfCode/blob/main/Day_13_OrderedDict.ipynb\" target=\"_parent\"><img src=\"https://colab.research.google.com/assets/colab-badge.svg\" alt=\"Open In Colab\"/></a>"
      ]
    },
    {
      "cell_type": "markdown",
      "metadata": {
        "id": "QyhQmQ8NxoXf"
      },
      "source": [
        "OrderedDict Usually used for maintain the insertion odere in the dictionary.\n",
        "This is the sub class of dict so it will have all the features available in the dict class and also have some external features like .move_to_end() and .popitems()\n",
        "\n",
        "The orderedDict is not available in core python but its available in built in function. this need to be imported from collections\n",
        "\n",
        "It will consume more time compared to core python dict and consume less in memory."
      ]
    },
    {
      "cell_type": "code",
      "metadata": {
        "colab": {
          "base_uri": "https://localhost:8080/"
        },
        "id": "zRCIu1jTxApU",
        "outputId": "b339f9af-5c84-4035-b8b2-0e6d753597f4"
      },
      "source": [
        "from collections import OrderedDict\n",
        "#Like dict, we can create a OrderedDict in three ways\n",
        "#Notably the insertion order is maintained here\n",
        "commercial_hadoop_vendors = OrderedDict({\n",
        "    \"Amazon\" : \"Elastic MapReduce\",\n",
        "    \"Cloudera\" : \"Cloudera Hadoop Distribution\",\n",
        "    \"IBM\" : \"BigInsights\",\n",
        "    \"Microsoft\" : \"Microsoft\"\n",
        "})\n",
        "commercial_hadoop_vendors"
      ],
      "execution_count": 5,
      "outputs": [
        {
          "output_type": "execute_result",
          "data": {
            "text/plain": [
              "OrderedDict([('Amazon', 'Elastic MapReduce'),\n",
              "             ('Cloudera', 'Cloudera Hadoop Distribution'),\n",
              "             ('IBM', 'BigInsights'),\n",
              "             ('Microsoft', 'Microsoft')])"
            ]
          },
          "metadata": {
            "tags": []
          },
          "execution_count": 5
        }
      ]
    },
    {
      "cell_type": "markdown",
      "metadata": {
        "id": "9BjjsilwxLj4"
      },
      "source": [
        "As we already know the OrderedDict is sub class of dict. So now we can directly jump into unique features of Ordered dict"
      ]
    },
    {
      "cell_type": "code",
      "metadata": {
        "id": "WOTHjCeWz1F4",
        "colab": {
          "base_uri": "https://localhost:8080/"
        },
        "outputId": "d4a1c198-4ed8-486f-f517-30ca261312e3"
      },
      "source": [
        "for k, v in commercial_hadoop_vendors.items():\n",
        "  print(k,'->', v)"
      ],
      "execution_count": 8,
      "outputs": [
        {
          "output_type": "stream",
          "text": [
            "Amazon -> Elastic MapReduce\n",
            "Cloudera -> Cloudera Hadoop Distribution\n",
            "IBM -> BigInsights\n",
            "Microsoft -> Microsoft\n"
          ],
          "name": "stdout"
        }
      ]
    },
    {
      "cell_type": "code",
      "metadata": {
        "colab": {
          "base_uri": "https://localhost:8080/",
          "height": 282
        },
        "id": "kPnC1EVt5Ruk",
        "outputId": "a8ccf355-3934-4969-b99c-75f442999464"
      },
      "source": [
        "#Feature 1: reversed()\n",
        "# This feature is added to dict class in python 3.8\n",
        "for k, v in reversed(commercial_hadoop_vendors.items()):\n",
        "  print(k,'->', v)\n",
        "\n",
        "test_dict = dict(\n",
        "    one ='1',\n",
        "    two = '2'\n",
        ")\n",
        "for k, v in reversed(test_dict.items()):\n",
        "  print(k, v)"
      ],
      "execution_count": 17,
      "outputs": [
        {
          "output_type": "stream",
          "text": [
            "Microsoft -> Microsoft\n",
            "IBM -> BigInsights\n",
            "Cloudera -> Cloudera Hadoop Distribution\n",
            "Amazon -> Elastic MapReduce\n"
          ],
          "name": "stdout"
        },
        {
          "output_type": "error",
          "ename": "TypeError",
          "evalue": "ignored",
          "traceback": [
            "\u001b[0;31m---------------------------------------------------------------------------\u001b[0m",
            "\u001b[0;31mTypeError\u001b[0m                                 Traceback (most recent call last)",
            "\u001b[0;32m<ipython-input-17-2a6e51ef6d22>\u001b[0m in \u001b[0;36m<module>\u001b[0;34m()\u001b[0m\n\u001b[1;32m      8\u001b[0m     \u001b[0mtwo\u001b[0m \u001b[0;34m=\u001b[0m \u001b[0;34m'2'\u001b[0m\u001b[0;34m\u001b[0m\u001b[0;34m\u001b[0m\u001b[0m\n\u001b[1;32m      9\u001b[0m )\n\u001b[0;32m---> 10\u001b[0;31m \u001b[0;32mfor\u001b[0m \u001b[0mk\u001b[0m\u001b[0;34m,\u001b[0m \u001b[0mv\u001b[0m \u001b[0;32min\u001b[0m \u001b[0mreversed\u001b[0m\u001b[0;34m(\u001b[0m\u001b[0mtest_dict\u001b[0m\u001b[0;34m.\u001b[0m\u001b[0mitems\u001b[0m\u001b[0;34m(\u001b[0m\u001b[0;34m)\u001b[0m\u001b[0;34m)\u001b[0m\u001b[0;34m:\u001b[0m\u001b[0;34m\u001b[0m\u001b[0;34m\u001b[0m\u001b[0m\n\u001b[0m\u001b[1;32m     11\u001b[0m   \u001b[0mprint\u001b[0m\u001b[0;34m(\u001b[0m\u001b[0mk\u001b[0m\u001b[0;34m,\u001b[0m \u001b[0mv\u001b[0m\u001b[0;34m)\u001b[0m\u001b[0;34m\u001b[0m\u001b[0;34m\u001b[0m\u001b[0m\n",
            "\u001b[0;31mTypeError\u001b[0m: 'dict_items' object is not reversible"
          ]
        }
      ]
    },
    {
      "cell_type": "code",
      "metadata": {
        "colab": {
          "base_uri": "https://localhost:8080/"
        },
        "id": "rLk5KdJ35dfk",
        "outputId": "9983a90c-2b9d-46ba-d795-47275b79fcf5"
      },
      "source": [
        "#Feature 2: move_to_end()\n",
        "'''\n",
        "This method is the one of arguable feaure in OrderedDict and this is not available in dict.\n",
        "It will allow a=us to move the key to end or first.\n",
        "This method will accept two argument one is key that is used to identify the key in the dict and another one is last(This will accept boolean values)\n",
        "'''\n",
        "commercial_hadoop_vendors.move_to_end('Amazon')\n",
        "commercial_hadoop_vendors.move_to_end('IBM', False)\n",
        "commercial_hadoop_vendors"
      ],
      "execution_count": 21,
      "outputs": [
        {
          "output_type": "execute_result",
          "data": {
            "text/plain": [
              "OrderedDict([('IBM', 'BigInsights'),\n",
              "             ('Cloudera', 'Cloudera Hadoop Distribution'),\n",
              "             ('Microsoft', 'Microsoft'),\n",
              "             ('Amazon', 'Elastic MapReduce')])"
            ]
          },
          "metadata": {
            "tags": []
          },
          "execution_count": 21
        }
      ]
    },
    {
      "cell_type": "code",
      "metadata": {
        "colab": {
          "base_uri": "https://localhost:8080/"
        },
        "id": "6aULvqu17KO7",
        "outputId": "42f52315-a35a-4782-838e-b72ee3c9c17c"
      },
      "source": [
        "sorted(commercial_hadoop_vendors.items(), key=lambda item: item)"
      ],
      "execution_count": 23,
      "outputs": [
        {
          "output_type": "execute_result",
          "data": {
            "text/plain": [
              "[('Amazon', 'Elastic MapReduce'),\n",
              " ('Cloudera', 'Cloudera Hadoop Distribution'),\n",
              " ('IBM', 'BigInsights'),\n",
              " ('Microsoft', 'Microsoft')]"
            ]
          },
          "metadata": {
            "tags": []
          },
          "execution_count": 23
        }
      ]
    },
    {
      "cell_type": "code",
      "metadata": {
        "id": "WgzUvOmf8s3v"
      },
      "source": [
        ""
      ],
      "execution_count": null,
      "outputs": []
    }
  ]
}