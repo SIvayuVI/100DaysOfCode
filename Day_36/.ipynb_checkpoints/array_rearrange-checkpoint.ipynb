{
 "cells": [
  {
   "cell_type": "code",
   "execution_count": null,
   "id": "a301f32a-49c3-4292-9e79-3649eaf5c7fa",
   "metadata": {},
   "outputs": [],
   "source": [
    "#User function Template for python3\n",
    "\n",
    "class Solution:\n",
    "    def rearrange(self,arr, n):\n",
    "        # code here\n",
    "        from itertools import zip_longest as zip\n",
    "        pos = []\n",
    "        neg = []\n",
    "        result = []\n",
    "        for i in arr:\n",
    "            if i >= 0: pos.append(i)\n",
    "            else : neg.append(i)\n",
    "        for i, k in zip(pos, neg):\n",
    "            if i is not None:\n",
    "                result.append(i)\n",
    "            if k is not None:\n",
    "                result.append(k)\n",
    "        arr[:] = result\n",
    "#{ \n",
    "#  Driver Code Starts\n",
    "#Initial Template for Python 3\n",
    "\n",
    "if __name__ == '__main__':\n",
    "\ttc = int(input())\n",
    "\twhile tc > 0:\n",
    "\t\tn = int(input())\n",
    "\t\tarr = list(map(int, input().strip().split()))\n",
    "\t\tob = Solution()\n",
    "\t\tob.rearrange(arr, n)\n",
    "\t\tfor x in arr:\n",
    "\t\t\tprint(x, end=\" \")\n",
    "\t\tprint()\n",
    "\t\ttc -= 1\n",
    "\n",
    "# } Driver Code Ends"
   ]
  }
 ],
 "metadata": {
  "kernelspec": {
   "display_name": "Python 3",
   "language": "python",
   "name": "python3"
  },
  "language_info": {
   "codemirror_mode": {
    "name": "ipython",
    "version": 3
   },
   "file_extension": ".py",
   "mimetype": "text/x-python",
   "name": "python",
   "nbconvert_exporter": "python",
   "pygments_lexer": "ipython3",
   "version": "3.8.5"
  }
 },
 "nbformat": 4,
 "nbformat_minor": 5
}
