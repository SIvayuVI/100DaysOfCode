{
  "nbformat": 4,
  "nbformat_minor": 0,
  "metadata": {
    "colab": {
      "name": "Day_12_Dictionaries.ipynb",
      "private_outputs": true,
      "provenance": [],
      "collapsed_sections": [],
      "toc_visible": true,
      "authorship_tag": "ABX9TyMPxiFb2wEJ3UfTh8Cvaj+7",
      "include_colab_link": true
    },
    "kernelspec": {
      "name": "python3",
      "display_name": "Python 3"
    },
    "language_info": {
      "name": "python"
    }
  },
  "cells": [
    {
      "cell_type": "markdown",
      "metadata": {
        "id": "view-in-github",
        "colab_type": "text"
      },
      "source": [
        "<a href=\"https://colab.research.google.com/github/SIvayuVI/100DaysOfCode/blob/main/Day_12_Dictionaries.ipynb\" target=\"_parent\"><img src=\"https://colab.research.google.com/assets/colab-badge.svg\" alt=\"Open In Colab\"/></a>"
      ]
    },
    {
      "cell_type": "markdown",
      "metadata": {
        "id": "BOHVDQFse7n3"
      },
      "source": [
        "**Dictionaries** are mutable. TYpically A python dictinary can be declare with key pair of elements and all elements are seperated by comma(,) and all key value pairs are enclosed by curily braces({}).\n",
        "\n",
        "Dictinaries are accessible by keys. We can do the following thing with dictionaries. \n",
        "\n",
        "*   Update\n",
        "*   Delete\n",
        "*   Insert and much more\n",
        "\n"
      ]
    },
    {
      "cell_type": "code",
      "metadata": {
        "id": "CCkqU-3Mf7ua"
      },
      "source": [
        "#defining dictionary\n",
        "#Way 1\n",
        "commercial_hadoop_vendors = {\n",
        "    \"Amazon\" : \"Elastic MapReduce\",\n",
        "    \"Cloudera\" : \"Cloudera Hadoop Distribution\",\n",
        "    \"IBM\" : \"BigInsights\",\n",
        "    \"Microsoft\" : \"Microsoft\"\n",
        "}\n",
        "commercial_hadoop_vendors"
      ],
      "execution_count": null,
      "outputs": []
    },
    {
      "cell_type": "code",
      "metadata": {
        "id": "8aWslxTTgSkr"
      },
      "source": [
        "#Way 2\n",
        "#Notably key word should not be in quotes\n",
        "commercial_hadoop_vendors = dict(\n",
        "    Amazon = \"Elastic MapReduce\",\n",
        "    Cloudera = \"Cloudera Hadoop Distribution\",\n",
        "    IBM = \"BigInsights\",\n",
        "    Microsoft = \"Microsoft\"\n",
        ")\n",
        "commercial_hadoop_vendors"
      ],
      "execution_count": null,
      "outputs": []
    },
    {
      "cell_type": "code",
      "metadata": {
        "id": "0mBCnCDNlOML"
      },
      "source": [
        "#Way 3\n",
        "#From List of tuples\n",
        "commercial_hadoop_vendors = dict([\n",
        "    (\"Amazon\" , \"Elastic MapReduce\"),\n",
        "    (\"Cloudera\" , \"Cloudera Hadoop Distribution\"),\n",
        "    (\"IBM\" , \"BigInsights\"),\n",
        "    (\"Microsoft\" , \"Microsoft\")\n",
        "])\n",
        "commercial_hadoop_vendors"
      ],
      "execution_count": null,
      "outputs": []
    },
    {
      "cell_type": "code",
      "metadata": {
        "id": "q7VrCtykmmak"
      },
      "source": [
        "type(commercial_hadoop_vendors)"
      ],
      "execution_count": null,
      "outputs": []
    },
    {
      "cell_type": "markdown",
      "metadata": {
        "id": "CVYGHHKSl8M5"
      },
      "source": [
        "We can access the dictionary values by key\n"
      ]
    },
    {
      "cell_type": "code",
      "metadata": {
        "id": "PHCbzj8VmC7S"
      },
      "source": [
        "commercial_hadoop_vendors['Amazon']\n"
      ],
      "execution_count": null,
      "outputs": []
    },
    {
      "cell_type": "code",
      "metadata": {
        "id": "ecN2Df-DmGQl"
      },
      "source": [
        "commercial_hadoop_vendors.get('Amazon')"
      ],
      "execution_count": null,
      "outputs": []
    },
    {
      "cell_type": "markdown",
      "metadata": {
        "id": "o5xnIclemuaK"
      },
      "source": [
        "There is no indexing cocept in Dictionaries like lists in python. So we can't access the values by index"
      ]
    },
    {
      "cell_type": "code",
      "metadata": {
        "id": "MkykwWx-mbxZ"
      },
      "source": [
        "commercial_hadoop_vendors[1]"
      ],
      "execution_count": null,
      "outputs": []
    },
    {
      "cell_type": "code",
      "metadata": {
        "id": "wqmuvpd2m7G9"
      },
      "source": [
        "commercial_hadoop_vendors[\"Google\"]\n",
        "#Key error when requested key is not there in the list"
      ],
      "execution_count": null,
      "outputs": []
    },
    {
      "cell_type": "markdown",
      "metadata": {
        "id": "y2e6Vl5gnrqF"
      },
      "source": [
        "Update and Insert can be done with simple and same like syntax"
      ]
    },
    {
      "cell_type": "code",
      "metadata": {
        "id": "dX7pJrvKnNPb"
      },
      "source": [
        "#Insert\n",
        "commercial_hadoop_vendors[\"Google\"] = \"data\"\n",
        "commercial_hadoop_vendors\n",
        "#looks like dictionaries are default key ordered nott insertion order"
      ],
      "execution_count": null,
      "outputs": []
    },
    {
      "cell_type": "code",
      "metadata": {
        "id": "U8D8hSBKnzVo"
      },
      "source": [
        "#Update\n",
        "commercial_hadoop_vendors[\"Google\"] = \"Data Proc\"\n",
        "commercial_hadoop_vendors[\"MapR\"] = \"MapR HDFS\"\n",
        "commercial_hadoop_vendors"
      ],
      "execution_count": null,
      "outputs": []
    },
    {
      "cell_type": "code",
      "metadata": {
        "id": "RaLilmohoRHG"
      },
      "source": [
        "#Deleting the key value pair\n",
        "del commercial_hadoop_vendors[\"MapR\"]\n",
        "commercial_hadoop_vendors"
      ],
      "execution_count": null,
      "outputs": []
    },
    {
      "cell_type": "markdown",
      "metadata": {
        "id": "cgFJCIJfoxbY"
      },
      "source": [
        "Immutable data types can be used as key like string, numbers and even tuples. list can't be a key anymore why because lists are mutable"
      ]
    },
    {
      "cell_type": "code",
      "metadata": {
        "id": "8amsj8PWoixU"
      },
      "source": [
        "alpha_numeric = {\n",
        "    1 : \"a\",\n",
        "    2 : \"b\",\n",
        "    3 : \"c\"\n",
        "}\n",
        "alpha_numeric"
      ],
      "execution_count": null,
      "outputs": []
    },
    {
      "cell_type": "code",
      "metadata": {
        "id": "FlF0F4ADpDUY"
      },
      "source": [
        "#Now the keys are looks like index\n",
        "alpha_numeric[1]"
      ],
      "execution_count": null,
      "outputs": []
    },
    {
      "cell_type": "markdown",
      "metadata": {
        "id": "jta3YMtRqlcU"
      },
      "source": [
        "Any data type can be used as value in dictionary like list, string, number,tuple even we can have dictionary inside dictionary"
      ]
    },
    {
      "cell_type": "code",
      "metadata": {
        "id": "hdYEUpV0pNN2"
      },
      "source": [
        "test_dict = {\n",
        "    1 : ['a','b','c'],\n",
        "    'vowels' : ['a', 'e', 'i', 'o', 'u'],\n",
        "    'new_dict' : {\n",
        "        'a' : 2,\n",
        "        'b' : 3\n",
        "    }\n",
        "}"
      ],
      "execution_count": null,
      "outputs": []
    },
    {
      "cell_type": "code",
      "metadata": {
        "id": "iML_csharRi1"
      },
      "source": [
        "test_dict"
      ],
      "execution_count": null,
      "outputs": []
    },
    {
      "cell_type": "code",
      "metadata": {
        "id": "34fiCcMcrVsU"
      },
      "source": [
        "test_dict[1]"
      ],
      "execution_count": null,
      "outputs": []
    },
    {
      "cell_type": "code",
      "metadata": {
        "id": "UHzJPbJErY82"
      },
      "source": [
        "test_dict[1][2]"
      ],
      "execution_count": null,
      "outputs": []
    },
    {
      "cell_type": "code",
      "metadata": {
        "id": "EPeLjmGyrbuM"
      },
      "source": [
        "test_dict['new_dict'].get('a')"
      ],
      "execution_count": null,
      "outputs": []
    },
    {
      "cell_type": "code",
      "metadata": {
        "id": "zvpGX8aerioD"
      },
      "source": [
        "test_dict['vowels'][1]"
      ],
      "execution_count": null,
      "outputs": []
    },
    {
      "cell_type": "markdown",
      "metadata": {
        "id": "nf-hSbapsl08"
      },
      "source": [
        "We can do some other operations like comparision"
      ]
    },
    {
      "cell_type": "code",
      "metadata": {
        "id": "uAW9RWhBrpZX"
      },
      "source": [
        "test_dict['vowels'] == test_dict[\"new_dict\"]"
      ],
      "execution_count": null,
      "outputs": []
    },
    {
      "cell_type": "markdown",
      "metadata": {
        "id": "LWXoy2Ios7W-"
      },
      "source": [
        "Some of basic built in functions in dict\n",
        "\n",
        "\n",
        "*   dict.get()\n",
        "*   dict.pop()\n",
        "*   dict.items()\n",
        "*   dict.values()\n",
        "*   dict.keys()\n",
        "*   dict.clear()\n",
        "\n"
      ]
    },
    {
      "cell_type": "code",
      "metadata": {
        "id": "Tt6K6HTys2rP"
      },
      "source": [
        "# dict.get()\n",
        "# It will return if the values are present if not it will not throw instead it will print empty or it will show your default value\n",
        "test_dict.get(\"vowels\")"
      ],
      "execution_count": null,
      "outputs": []
    },
    {
      "cell_type": "code",
      "metadata": {
        "id": "veL34VCjttcr"
      },
      "source": [
        "test_dict.get(\"voweelss\", \"Its not there\")"
      ],
      "execution_count": null,
      "outputs": []
    },
    {
      "cell_type": "code",
      "metadata": {
        "id": "EFEEXPuzt2Fg"
      },
      "source": [
        "# dict.pop()\n",
        "# Like list pop, here pop will remove specified key and return the deleted values\n",
        "test_dict.pop(\"vowels\")"
      ],
      "execution_count": null,
      "outputs": []
    },
    {
      "cell_type": "code",
      "metadata": {
        "id": "bVf1ctreuL5J"
      },
      "source": [
        "# dict.items()\n",
        "# It will give you the iterable object\n",
        "list(test_dict.items())"
      ],
      "execution_count": null,
      "outputs": []
    },
    {
      "cell_type": "code",
      "metadata": {
        "id": "ZFy7x38vudgv"
      },
      "source": [
        "# dict.values()\n",
        "test_dict.values()"
      ],
      "execution_count": null,
      "outputs": []
    },
    {
      "cell_type": "code",
      "metadata": {
        "id": "0Di8ZIumu8hF"
      },
      "source": [
        "# dict.keys()\n",
        "test_dict.keys()"
      ],
      "execution_count": null,
      "outputs": []
    },
    {
      "cell_type": "code",
      "metadata": {
        "id": "i7o0wwoIvMPY"
      },
      "source": [
        "# dict.update\n",
        "# We can add two or more dict via update method\n",
        "final = commercial_hadoop_vendors.update(alpha_numeric)"
      ],
      "execution_count": null,
      "outputs": []
    },
    {
      "cell_type": "code",
      "metadata": {
        "id": "7ogx-ht-vfNv"
      },
      "source": [
        "final"
      ],
      "execution_count": null,
      "outputs": []
    },
    {
      "cell_type": "code",
      "metadata": {
        "id": "kAVX4wMfvm5v"
      },
      "source": [
        "test_dict.clear()"
      ],
      "execution_count": null,
      "outputs": []
    },
    {
      "cell_type": "code",
      "metadata": {
        "id": "oN-gGSMOv3pd"
      },
      "source": [
        "test_dict"
      ],
      "execution_count": null,
      "outputs": []
    },
    {
      "cell_type": "code",
      "metadata": {
        "id": "26PstQrqv5Sn"
      },
      "source": [
        ""
      ],
      "execution_count": null,
      "outputs": []
    }
  ]
}