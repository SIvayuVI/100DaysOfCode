{
  "nbformat": 4,
  "nbformat_minor": 0,
  "metadata": {
    "colab": {
      "name": "Dictionaries.ipynb",
      "private_outputs": true,
      "provenance": [],
      "authorship_tag": "ABX9TyNoIzfRx0+EG+wvo6xpxYaZ",
      "include_colab_link": true
    },
    "kernelspec": {
      "name": "python3",
      "display_name": "Python 3"
    },
    "language_info": {
      "name": "python"
    }
  },
  "cells": [
    {
      "cell_type": "markdown",
      "metadata": {
        "id": "view-in-github",
        "colab_type": "text"
      },
      "source": [
        "<a href=\"https://colab.research.google.com/github/SIvayuVI/100DaysOfCode/blob/main/Day_12_Dictionaries.ipynb\" target=\"_parent\"><img src=\"https://colab.research.google.com/assets/colab-badge.svg\" alt=\"Open In Colab\"/></a>"
      ]
    },
    {
      "cell_type": "markdown",
      "metadata": {
        "id": "BOHVDQFse7n3"
      },
      "source": [
        "**Dictionaries** are mutable. TYpically A python dictinary can be declare with key pair of elements and all elements are seperated by comma(,) and all key value pairs are enclosed by curily braces({}).\n",
        "\n",
        "Dictinaries are accessible by keys. We can do the following thing with dictionaries. \n",
        "\n",
        "*   Update\n",
        "*   Delete\n",
        "*   Insert and much more\n",
        "\n"
      ]
    },
    {
      "cell_type": "code",
      "metadata": {
        "id": "CCkqU-3Mf7ua"
      },
      "source": [
        "#defining dictionary\n",
        "\n",
        "dict_a = {\n",
        "    \"name\" : \"siva\",\n",
        "    \"age\" : 25,\n",
        "    \"village\" : \"Nemur\",\n",
        "}\n",
        "dict_a"
      ],
      "execution_count": null,
      "outputs": []
    },
    {
      "cell_type": "code",
      "metadata": {
        "id": "8aWslxTTgSkr"
      },
      "source": [
        ""
      ],
      "execution_count": null,
      "outputs": []
    }
  ]
}