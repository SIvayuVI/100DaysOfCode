{
  "nbformat": 4,
  "nbformat_minor": 0,
  "metadata": {
    "colab": {
      "name": "Day_12_Dictionaries.ipynb",
      "provenance": [],
      "collapsed_sections": [],
      "toc_visible": true,
      "authorship_tag": "ABX9TyNEPn7CSbqdbnrXIZCe4gn6",
      "include_colab_link": true
    },
    "kernelspec": {
      "name": "python3",
      "display_name": "Python 3"
    },
    "language_info": {
      "name": "python"
    }
  },
  "cells": [
    {
      "cell_type": "markdown",
      "metadata": {
        "id": "view-in-github",
        "colab_type": "text"
      },
      "source": [
        "<a href=\"https://colab.research.google.com/github/SIvayuVI/100DaysOfCode/blob/main/Day_12_Dictionaries.ipynb\" target=\"_parent\"><img src=\"https://colab.research.google.com/assets/colab-badge.svg\" alt=\"Open In Colab\"/></a>"
      ]
    },
    {
      "cell_type": "markdown",
      "metadata": {
        "id": "BOHVDQFse7n3"
      },
      "source": [
        "**Dictionaries** are mutable. TYpically A python dictinary can be declare with key pair of elements and all elements are seperated by comma(,) and all key value pairs are enclosed by curily braces({}).\n",
        "\n",
        "Dictinaries are accessible by keys. We can do the following thing with dictionaries. \n",
        "\n",
        "*   Update\n",
        "*   Delete\n",
        "*   Insert and much more\n",
        "\n"
      ]
    },
    {
      "cell_type": "code",
      "metadata": {
        "id": "CCkqU-3Mf7ua",
        "colab": {
          "base_uri": "https://localhost:8080/"
        },
        "outputId": "a5425749-c06c-4d3e-e642-f9ca47f7f49d"
      },
      "source": [
        "#defining dictionary\n",
        "#Way 1\n",
        "commercial_hadoop_vendors = {\n",
        "    \"Amazon\" : \"Elastic MapReduce\",\n",
        "    \"Cloudera\" : \"Cloudera Hadoop Distribution\",\n",
        "    \"IBM\" : \"BigInsights\",\n",
        "    \"Microsoft\" : \"Microsoft\"\n",
        "}\n",
        "commercial_hadoop_vendors"
      ],
      "execution_count": 1,
      "outputs": [
        {
          "output_type": "execute_result",
          "data": {
            "text/plain": [
              "{'Amazon': 'Elastic MapReduce',\n",
              " 'Cloudera': 'Cloudera Hadoop Distribution',\n",
              " 'IBM': 'BigInsights',\n",
              " 'Microsoft': 'Microsoft'}"
            ]
          },
          "metadata": {
            "tags": []
          },
          "execution_count": 1
        }
      ]
    },
    {
      "cell_type": "code",
      "metadata": {
        "id": "8aWslxTTgSkr",
        "colab": {
          "base_uri": "https://localhost:8080/"
        },
        "outputId": "3ea92205-cffc-401a-d4bf-61fd19ecc78f"
      },
      "source": [
        "#Way 2\n",
        "#Notably key word should not be in quotes\n",
        "commercial_hadoop_vendors = dict(\n",
        "    Amazon = \"Elastic MapReduce\",\n",
        "    Cloudera = \"Cloudera Hadoop Distribution\",\n",
        "    IBM = \"BigInsights\",\n",
        "    Microsoft = \"Microsoft\"\n",
        ")\n",
        "commercial_hadoop_vendors"
      ],
      "execution_count": 2,
      "outputs": [
        {
          "output_type": "execute_result",
          "data": {
            "text/plain": [
              "{'Amazon': 'Elastic MapReduce',\n",
              " 'Cloudera': 'Cloudera Hadoop Distribution',\n",
              " 'IBM': 'BigInsights',\n",
              " 'Microsoft': 'Microsoft'}"
            ]
          },
          "metadata": {
            "tags": []
          },
          "execution_count": 2
        }
      ]
    },
    {
      "cell_type": "code",
      "metadata": {
        "id": "0mBCnCDNlOML",
        "colab": {
          "base_uri": "https://localhost:8080/"
        },
        "outputId": "2ab43eb2-ce22-4837-83f6-f135c1a556d3"
      },
      "source": [
        "#Way 3\n",
        "#From List of tuples\n",
        "commercial_hadoop_vendors = dict([\n",
        "    (\"Amazon\" , \"Elastic MapReduce\"),\n",
        "    (\"Cloudera\" , \"Cloudera Hadoop Distribution\"),\n",
        "    (\"IBM\" , \"BigInsights\"),\n",
        "    (\"Microsoft\" , \"Microsoft\")\n",
        "])\n",
        "commercial_hadoop_vendors"
      ],
      "execution_count": 3,
      "outputs": [
        {
          "output_type": "execute_result",
          "data": {
            "text/plain": [
              "{'Amazon': 'Elastic MapReduce',\n",
              " 'Cloudera': 'Cloudera Hadoop Distribution',\n",
              " 'IBM': 'BigInsights',\n",
              " 'Microsoft': 'Microsoft'}"
            ]
          },
          "metadata": {
            "tags": []
          },
          "execution_count": 3
        }
      ]
    },
    {
      "cell_type": "code",
      "metadata": {
        "id": "q7VrCtykmmak",
        "colab": {
          "base_uri": "https://localhost:8080/"
        },
        "outputId": "92eb3ee9-4a06-4354-b710-6f8ab8110d2f"
      },
      "source": [
        "type(commercial_hadoop_vendors)"
      ],
      "execution_count": 4,
      "outputs": [
        {
          "output_type": "execute_result",
          "data": {
            "text/plain": [
              "dict"
            ]
          },
          "metadata": {
            "tags": []
          },
          "execution_count": 4
        }
      ]
    },
    {
      "cell_type": "markdown",
      "metadata": {
        "id": "CVYGHHKSl8M5"
      },
      "source": [
        "We can access the dictionary values by key\n"
      ]
    },
    {
      "cell_type": "code",
      "metadata": {
        "id": "PHCbzj8VmC7S",
        "colab": {
          "base_uri": "https://localhost:8080/",
          "height": 35
        },
        "outputId": "6b791e97-cbea-43d2-a485-d6e5db175818"
      },
      "source": [
        "commercial_hadoop_vendors['Amazon']\n"
      ],
      "execution_count": 5,
      "outputs": [
        {
          "output_type": "execute_result",
          "data": {
            "application/vnd.google.colaboratory.intrinsic+json": {
              "type": "string"
            },
            "text/plain": [
              "'Elastic MapReduce'"
            ]
          },
          "metadata": {
            "tags": []
          },
          "execution_count": 5
        }
      ]
    },
    {
      "cell_type": "code",
      "metadata": {
        "id": "ecN2Df-DmGQl",
        "colab": {
          "base_uri": "https://localhost:8080/",
          "height": 35
        },
        "outputId": "fb770d91-4d22-4416-c6db-ea805c4b36a5"
      },
      "source": [
        "commercial_hadoop_vendors.get('Amazon')"
      ],
      "execution_count": 6,
      "outputs": [
        {
          "output_type": "execute_result",
          "data": {
            "application/vnd.google.colaboratory.intrinsic+json": {
              "type": "string"
            },
            "text/plain": [
              "'Elastic MapReduce'"
            ]
          },
          "metadata": {
            "tags": []
          },
          "execution_count": 6
        }
      ]
    },
    {
      "cell_type": "markdown",
      "metadata": {
        "id": "o5xnIclemuaK"
      },
      "source": [
        "There is no indexing cocept in Dictionaries like lists in python. So we can't access the values by index"
      ]
    },
    {
      "cell_type": "code",
      "metadata": {
        "id": "MkykwWx-mbxZ",
        "colab": {
          "base_uri": "https://localhost:8080/",
          "height": 163
        },
        "outputId": "764880ec-1249-49b6-a8e3-a4089c437a08"
      },
      "source": [
        "commercial_hadoop_vendors[1]"
      ],
      "execution_count": 7,
      "outputs": [
        {
          "output_type": "error",
          "ename": "KeyError",
          "evalue": "ignored",
          "traceback": [
            "\u001b[0;31m---------------------------------------------------------------------------\u001b[0m",
            "\u001b[0;31mKeyError\u001b[0m                                  Traceback (most recent call last)",
            "\u001b[0;32m<ipython-input-7-43691d11fe8b>\u001b[0m in \u001b[0;36m<module>\u001b[0;34m()\u001b[0m\n\u001b[0;32m----> 1\u001b[0;31m \u001b[0mcommercial_hadoop_vendors\u001b[0m\u001b[0;34m[\u001b[0m\u001b[0;36m1\u001b[0m\u001b[0;34m]\u001b[0m\u001b[0;34m\u001b[0m\u001b[0;34m\u001b[0m\u001b[0m\n\u001b[0m",
            "\u001b[0;31mKeyError\u001b[0m: 1"
          ]
        }
      ]
    },
    {
      "cell_type": "code",
      "metadata": {
        "id": "wqmuvpd2m7G9"
      },
      "source": [
        "commercial_hadoop_vendors[\"Google\"]\n",
        "#Key error when requested key is not there in the list"
      ],
      "execution_count": null,
      "outputs": []
    },
    {
      "cell_type": "markdown",
      "metadata": {
        "id": "y2e6Vl5gnrqF"
      },
      "source": [
        "Update and Insert can be done with simple and same like syntax"
      ]
    },
    {
      "cell_type": "code",
      "metadata": {
        "id": "dX7pJrvKnNPb"
      },
      "source": [
        "#Insert\n",
        "commercial_hadoop_vendors[\"Google\"] = \"data\"\n",
        "commercial_hadoop_vendors\n",
        "#looks like dictionaries are default key ordered nott insertion order"
      ],
      "execution_count": null,
      "outputs": []
    },
    {
      "cell_type": "code",
      "metadata": {
        "id": "U8D8hSBKnzVo",
        "colab": {
          "base_uri": "https://localhost:8080/"
        },
        "outputId": "a8df622d-e063-470d-e418-c9f3568ce7c3"
      },
      "source": [
        "#Update\n",
        "commercial_hadoop_vendors[\"Google\"] = \"Data Proc\"\n",
        "commercial_hadoop_vendors[\"MapR\"] = \"MapR HDFS\"\n",
        "commercial_hadoop_vendors"
      ],
      "execution_count": 15,
      "outputs": [
        {
          "output_type": "execute_result",
          "data": {
            "text/plain": [
              "{'Amazon': 'Elastic MapReduce',\n",
              " 'Cloudera': 'Cloudera Hadoop Distribution',\n",
              " 'Google': 'Data Proc',\n",
              " 'IBM': 'BigInsights',\n",
              " 'MapR': 'MapR HDFS',\n",
              " 'Microsoft': 'Microsoft'}"
            ]
          },
          "metadata": {
            "tags": []
          },
          "execution_count": 15
        }
      ]
    },
    {
      "cell_type": "code",
      "metadata": {
        "id": "RaLilmohoRHG",
        "colab": {
          "base_uri": "https://localhost:8080/"
        },
        "outputId": "ae4c8f5e-20d4-4e87-ae9c-4a0732aa0fde"
      },
      "source": [
        "#Deleting the key value pair\n",
        "del commercial_hadoop_vendors[\"MapR\"]\n",
        "commercial_hadoop_vendors"
      ],
      "execution_count": 16,
      "outputs": [
        {
          "output_type": "execute_result",
          "data": {
            "text/plain": [
              "{'Amazon': 'Elastic MapReduce',\n",
              " 'Cloudera': 'Cloudera Hadoop Distribution',\n",
              " 'Google': 'Data Proc',\n",
              " 'IBM': 'BigInsights',\n",
              " 'Microsoft': 'Microsoft'}"
            ]
          },
          "metadata": {
            "tags": []
          },
          "execution_count": 16
        }
      ]
    },
    {
      "cell_type": "markdown",
      "metadata": {
        "id": "cgFJCIJfoxbY"
      },
      "source": [
        "Immutable data types can be used as key like string, numbers and even tuples. list can't be a key anymore why because lists are mutable"
      ]
    },
    {
      "cell_type": "code",
      "metadata": {
        "id": "8amsj8PWoixU",
        "colab": {
          "base_uri": "https://localhost:8080/"
        },
        "outputId": "264e613b-8e8e-4abc-b44b-513dc499de94"
      },
      "source": [
        "alpha_numeric = {\n",
        "    1 : \"a\",\n",
        "    2 : \"b\",\n",
        "    3 : \"c\"\n",
        "}\n",
        "alpha_numeric"
      ],
      "execution_count": 17,
      "outputs": [
        {
          "output_type": "execute_result",
          "data": {
            "text/plain": [
              "{1: 'a', 2: 'b', 3: 'c'}"
            ]
          },
          "metadata": {
            "tags": []
          },
          "execution_count": 17
        }
      ]
    },
    {
      "cell_type": "code",
      "metadata": {
        "id": "FlF0F4ADpDUY",
        "colab": {
          "base_uri": "https://localhost:8080/",
          "height": 35
        },
        "outputId": "468fb4e7-1b9c-4090-9925-7550ab1f44c9"
      },
      "source": [
        "#Now the keys are looks like index\n",
        "alpha_numeric[1]"
      ],
      "execution_count": 18,
      "outputs": [
        {
          "output_type": "execute_result",
          "data": {
            "application/vnd.google.colaboratory.intrinsic+json": {
              "type": "string"
            },
            "text/plain": [
              "'a'"
            ]
          },
          "metadata": {
            "tags": []
          },
          "execution_count": 18
        }
      ]
    },
    {
      "cell_type": "markdown",
      "metadata": {
        "id": "jta3YMtRqlcU"
      },
      "source": [
        "Any data type can be used as value in dictionary like list, string, number,tuple even we can have dictionary inside dictionary"
      ]
    },
    {
      "cell_type": "code",
      "metadata": {
        "id": "hdYEUpV0pNN2"
      },
      "source": [
        "test_dict = {\n",
        "    1 : ['a','b','c'],\n",
        "    'vowels' : ['a', 'e', 'i', 'o', 'u'],\n",
        "    'new_dict' : {\n",
        "        'a' : 2,\n",
        "        'b' : 3\n",
        "    }\n",
        "}"
      ],
      "execution_count": 36,
      "outputs": []
    },
    {
      "cell_type": "code",
      "metadata": {
        "id": "iML_csharRi1",
        "colab": {
          "base_uri": "https://localhost:8080/"
        },
        "outputId": "5279d462-7039-4174-ff40-dc1fbb33d424"
      },
      "source": [
        "test_dict"
      ],
      "execution_count": 37,
      "outputs": [
        {
          "output_type": "execute_result",
          "data": {
            "text/plain": [
              "{1: ['a', 'b', 'c'],\n",
              " 'new_dict': {'a': 2, 'b': 3},\n",
              " 'vowels': ['a', 'e', 'i', 'o', 'u']}"
            ]
          },
          "metadata": {
            "tags": []
          },
          "execution_count": 37
        }
      ]
    },
    {
      "cell_type": "code",
      "metadata": {
        "id": "34fiCcMcrVsU",
        "colab": {
          "base_uri": "https://localhost:8080/"
        },
        "outputId": "5d7bdb2b-0b68-492d-f79c-facf147cbe24"
      },
      "source": [
        "test_dict[1]"
      ],
      "execution_count": 21,
      "outputs": [
        {
          "output_type": "execute_result",
          "data": {
            "text/plain": [
              "['a', 'b', 'c']"
            ]
          },
          "metadata": {
            "tags": []
          },
          "execution_count": 21
        }
      ]
    },
    {
      "cell_type": "code",
      "metadata": {
        "id": "UHzJPbJErY82",
        "colab": {
          "base_uri": "https://localhost:8080/",
          "height": 35
        },
        "outputId": "951a5e8f-89cb-43f9-af78-c298b6e42d60"
      },
      "source": [
        "test_dict[1][2]"
      ],
      "execution_count": 22,
      "outputs": [
        {
          "output_type": "execute_result",
          "data": {
            "application/vnd.google.colaboratory.intrinsic+json": {
              "type": "string"
            },
            "text/plain": [
              "'c'"
            ]
          },
          "metadata": {
            "tags": []
          },
          "execution_count": 22
        }
      ]
    },
    {
      "cell_type": "code",
      "metadata": {
        "id": "EPeLjmGyrbuM",
        "colab": {
          "base_uri": "https://localhost:8080/"
        },
        "outputId": "85e4b399-d0f1-459b-86b5-3c88cd3e17da"
      },
      "source": [
        "test_dict['new_dict'].get('a')"
      ],
      "execution_count": 23,
      "outputs": [
        {
          "output_type": "execute_result",
          "data": {
            "text/plain": [
              "2"
            ]
          },
          "metadata": {
            "tags": []
          },
          "execution_count": 23
        }
      ]
    },
    {
      "cell_type": "code",
      "metadata": {
        "id": "zvpGX8aerioD",
        "colab": {
          "base_uri": "https://localhost:8080/",
          "height": 35
        },
        "outputId": "4ee7a2ec-31dd-4b80-feaa-51f72044c857"
      },
      "source": [
        "test_dict['vowels'][1]"
      ],
      "execution_count": 24,
      "outputs": [
        {
          "output_type": "execute_result",
          "data": {
            "application/vnd.google.colaboratory.intrinsic+json": {
              "type": "string"
            },
            "text/plain": [
              "'e'"
            ]
          },
          "metadata": {
            "tags": []
          },
          "execution_count": 24
        }
      ]
    },
    {
      "cell_type": "markdown",
      "metadata": {
        "id": "nf-hSbapsl08"
      },
      "source": [
        "We can do some other operations like comparision"
      ]
    },
    {
      "cell_type": "code",
      "metadata": {
        "id": "uAW9RWhBrpZX",
        "colab": {
          "base_uri": "https://localhost:8080/"
        },
        "outputId": "eda4ad88-05cd-412a-97e1-cc1a08aa4204"
      },
      "source": [
        "test_dict['vowels'] == test_dict[\"new_dict\"]"
      ],
      "execution_count": 25,
      "outputs": [
        {
          "output_type": "execute_result",
          "data": {
            "text/plain": [
              "False"
            ]
          },
          "metadata": {
            "tags": []
          },
          "execution_count": 25
        }
      ]
    },
    {
      "cell_type": "markdown",
      "metadata": {
        "id": "LWXoy2Ios7W-"
      },
      "source": [
        "Some of basic built in functions in dict\n",
        "\n",
        "\n",
        "*   dict.get()\n",
        "*   dict.pop()\n",
        "*   dict.items()\n",
        "*   dict.values()\n",
        "*   dict.keys()\n",
        "*   dict.clear()\n",
        "\n"
      ]
    },
    {
      "cell_type": "code",
      "metadata": {
        "id": "Tt6K6HTys2rP",
        "colab": {
          "base_uri": "https://localhost:8080/"
        },
        "outputId": "86729bf4-53b8-47c0-f231-0e04f5107a0d"
      },
      "source": [
        "# dict.get()\n",
        "# It will return if the values are present if not it will not throw instead it will print empty or it will show your default value\n",
        "test_dict.get(\"vowels\")"
      ],
      "execution_count": 26,
      "outputs": [
        {
          "output_type": "execute_result",
          "data": {
            "text/plain": [
              "['a', 'e', 'i', 'o', 'u']"
            ]
          },
          "metadata": {
            "tags": []
          },
          "execution_count": 26
        }
      ]
    },
    {
      "cell_type": "code",
      "metadata": {
        "id": "veL34VCjttcr",
        "colab": {
          "base_uri": "https://localhost:8080/",
          "height": 35
        },
        "outputId": "20e74c68-3dcb-4fbd-db38-89bb77a70239"
      },
      "source": [
        "test_dict.get(\"voweelss\", \"Its not there\")"
      ],
      "execution_count": 27,
      "outputs": [
        {
          "output_type": "execute_result",
          "data": {
            "application/vnd.google.colaboratory.intrinsic+json": {
              "type": "string"
            },
            "text/plain": [
              "'Its not there'"
            ]
          },
          "metadata": {
            "tags": []
          },
          "execution_count": 27
        }
      ]
    },
    {
      "cell_type": "code",
      "metadata": {
        "id": "EFEEXPuzt2Fg",
        "colab": {
          "base_uri": "https://localhost:8080/"
        },
        "outputId": "868cdc5f-834a-49a6-e981-2ef79a8c23c4"
      },
      "source": [
        "# dict.pop()\n",
        "# Like list pop, here pop will remove specified key and return the deleted values\n",
        "test_dict.pop(\"vowels\")"
      ],
      "execution_count": 28,
      "outputs": [
        {
          "output_type": "execute_result",
          "data": {
            "text/plain": [
              "['a', 'e', 'i', 'o', 'u']"
            ]
          },
          "metadata": {
            "tags": []
          },
          "execution_count": 28
        }
      ]
    },
    {
      "cell_type": "code",
      "metadata": {
        "id": "bVf1ctreuL5J",
        "colab": {
          "base_uri": "https://localhost:8080/"
        },
        "outputId": "f84adfbc-4b35-44ad-952c-eef2cc473ed6"
      },
      "source": [
        "# dict.items()\n",
        "# It will give you the iterable object\n",
        "list(test_dict.items())"
      ],
      "execution_count": 29,
      "outputs": [
        {
          "output_type": "execute_result",
          "data": {
            "text/plain": [
              "[(1, ['a', 'b', 'c']), ('new_dict', {'a': 2, 'b': 3})]"
            ]
          },
          "metadata": {
            "tags": []
          },
          "execution_count": 29
        }
      ]
    },
    {
      "cell_type": "code",
      "metadata": {
        "id": "ZFy7x38vudgv",
        "colab": {
          "base_uri": "https://localhost:8080/"
        },
        "outputId": "3121c33f-03ae-4f18-bc9f-9b5c7b58ede8"
      },
      "source": [
        "# dict.values()\n",
        "test_dict.values()"
      ],
      "execution_count": 30,
      "outputs": [
        {
          "output_type": "execute_result",
          "data": {
            "text/plain": [
              "dict_values([['a', 'b', 'c'], {'a': 2, 'b': 3}])"
            ]
          },
          "metadata": {
            "tags": []
          },
          "execution_count": 30
        }
      ]
    },
    {
      "cell_type": "code",
      "metadata": {
        "id": "0Di8ZIumu8hF",
        "colab": {
          "base_uri": "https://localhost:8080/"
        },
        "outputId": "adf08cd9-8154-4f87-8f69-fc91ac787ecb"
      },
      "source": [
        "# dict.keys()\n",
        "test_dict.keys()"
      ],
      "execution_count": 31,
      "outputs": [
        {
          "output_type": "execute_result",
          "data": {
            "text/plain": [
              "dict_keys([1, 'new_dict'])"
            ]
          },
          "metadata": {
            "tags": []
          },
          "execution_count": 31
        }
      ]
    },
    {
      "cell_type": "code",
      "metadata": {
        "id": "i7o0wwoIvMPY"
      },
      "source": [
        "# dict.update\n",
        "# We can add two or more dict via update method\n",
        "final = commercial_hadoop_vendors.update(alpha_numeric)"
      ],
      "execution_count": 32,
      "outputs": []
    },
    {
      "cell_type": "code",
      "metadata": {
        "id": "7ogx-ht-vfNv"
      },
      "source": [
        "final"
      ],
      "execution_count": 33,
      "outputs": []
    },
    {
      "cell_type": "code",
      "metadata": {
        "id": "kAVX4wMfvm5v"
      },
      "source": [
        "test_dict.clear()"
      ],
      "execution_count": 34,
      "outputs": []
    },
    {
      "cell_type": "code",
      "metadata": {
        "id": "oN-gGSMOv3pd"
      },
      "source": [
        "final"
      ],
      "execution_count": 35,
      "outputs": []
    },
    {
      "cell_type": "code",
      "metadata": {
        "id": "26PstQrqv5Sn",
        "colab": {
          "base_uri": "https://localhost:8080/"
        },
        "outputId": "6abb7c19-1863-4204-b210-f7425b83bc5d"
      },
      "source": [
        "test_dict.fromkeys(test_dict.keys(), 0)\n",
        "#We can create a dict with default value"
      ],
      "execution_count": 39,
      "outputs": [
        {
          "output_type": "execute_result",
          "data": {
            "text/plain": [
              "{1: 0, 'new_dict': 0, 'vowels': 0}"
            ]
          },
          "metadata": {
            "tags": []
          },
          "execution_count": 39
        }
      ]
    },
    {
      "cell_type": "code",
      "metadata": {
        "id": "kq1Mxh9D1xb7"
      },
      "source": [
        ""
      ],
      "execution_count": null,
      "outputs": []
    }
  ]
}