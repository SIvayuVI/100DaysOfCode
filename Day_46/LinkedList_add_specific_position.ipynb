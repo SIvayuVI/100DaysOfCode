{
 "cells": [
  {
   "cell_type": "code",
   "execution_count": 42,
   "id": "ad36b10c-e5e9-4fbe-b3d7-4f5a14fe2c3c",
   "metadata": {},
   "outputs": [],
   "source": [
    "\n",
    "class Node:\n",
    "    \n",
    "    def __init__(self, data):\n",
    "        self.data = data\n",
    "        self.next = None\n",
    "    \n",
    "    def __repr__(self):\n",
    "        return self.data\n",
    "        \n",
    "class LinkedList:\n",
    "    \n",
    "    def __init__(self, nodes = None):\n",
    "        self.head = None\n",
    "        if nodes is not None:\n",
    "            node = Node(data = nodes.pop(0))\n",
    "            self.head = node\n",
    "            for elem in nodes:\n",
    "                node.next = Node(data = elem)\n",
    "                node = node.next\n",
    "                \n",
    "    def __iter__(self):\n",
    "        node = self.head\n",
    "        while node is not None:\n",
    "            yield node\n",
    "            node = node.next\n",
    "        \n",
    "    def __repr__(self):\n",
    "        node = self.head\n",
    "        nodes = []\n",
    "        while node is not None:\n",
    "            nodes.append(node.data)\n",
    "            node = node.next\n",
    "        nodes.append(\"None\")\n",
    "        return \" -> \".join(nodes)\n",
    "    \n",
    "    def add_first(self, node):\n",
    "        node.next = self.head\n",
    "        self.head = node\n",
    "        \n",
    "    def add_last(self, node):\n",
    "        if not self.head:\n",
    "            self.head = node\n",
    "            return\n",
    "        for current_node in self:\n",
    "            pass\n",
    "        current_node.next = node\n",
    "        \n",
    "        \n",
    "    def add_after(self, target_node_data, new_node):\n",
    "        if not self.head:\n",
    "            raise Exception(\"List is empty \")\n",
    "        for node in self:\n",
    "            if target_node_data == node.data:\n",
    "                new_node.next = node.next\n",
    "                node.next = new_node\n",
    "                return\n",
    "        raise Exception(\"There is an error\")\n",
    "        \n",
    "    def add_before(self, target_node_data, new_node):\n",
    "        if not self.head:\n",
    "            raise Exception(\"Empty List\")\n",
    "        if self.head.data == target_node_data:\n",
    "            return self.add_first(new_node)\n",
    "        \n",
    "        pre_node = self.head\n",
    "        for node in self:\n",
    "            if node.data == target_node_data:\n",
    "                pre_node.next =  new_node\n",
    "                new_node.next = node.data\n",
    "                return\n",
    "            pre_node = node\n",
    "            \n",
    "        raise Exception(\"There is an error\")\n",
    "            \n",
    "            "
   ]
  },
  {
   "cell_type": "code",
   "execution_count": 43,
   "id": "a8d0785b-25d1-4dbe-a829-4c056e85b4c5",
   "metadata": {},
   "outputs": [
    {
     "name": "stdout",
     "output_type": "stream",
     "text": [
      "d -> e -> f -> None\n",
      "v -> d -> e -> f -> None\n",
      "v -> d -> e -> f -> s -> None\n",
      "v -> d -> e -> k -> f -> s -> None\n"
     ]
    },
    {
     "ename": "Exception",
     "evalue": "There is an error",
     "output_type": "error",
     "traceback": [
      "\u001b[0;31m---------------------------------------------------------------------------\u001b[0m",
      "\u001b[0;31mException\u001b[0m                                 Traceback (most recent call last)",
      "\u001b[0;32m<ipython-input-43-1f053cfd68cd>\u001b[0m in \u001b[0;36m<module>\u001b[0;34m\u001b[0m\n\u001b[1;32m      8\u001b[0m \u001b[0mlllist\u001b[0m\u001b[0;34m.\u001b[0m\u001b[0madd_after\u001b[0m\u001b[0;34m(\u001b[0m\u001b[0;34m'e'\u001b[0m\u001b[0;34m,\u001b[0m \u001b[0mNode\u001b[0m\u001b[0;34m(\u001b[0m\u001b[0;34m'k'\u001b[0m\u001b[0;34m)\u001b[0m\u001b[0;34m)\u001b[0m\u001b[0;34m\u001b[0m\u001b[0;34m\u001b[0m\u001b[0m\n\u001b[1;32m      9\u001b[0m \u001b[0mprint\u001b[0m\u001b[0;34m(\u001b[0m\u001b[0mlllist\u001b[0m\u001b[0;34m)\u001b[0m\u001b[0;34m\u001b[0m\u001b[0;34m\u001b[0m\u001b[0m\n\u001b[0;32m---> 10\u001b[0;31m \u001b[0mlllist\u001b[0m\u001b[0;34m.\u001b[0m\u001b[0madd_before\u001b[0m\u001b[0;34m(\u001b[0m\u001b[0;34m'y'\u001b[0m\u001b[0;34m,\u001b[0m \u001b[0mNode\u001b[0m\u001b[0;34m(\u001b[0m\u001b[0;34m'e'\u001b[0m\u001b[0;34m)\u001b[0m\u001b[0;34m)\u001b[0m\u001b[0;34m\u001b[0m\u001b[0;34m\u001b[0m\u001b[0m\n\u001b[0m\u001b[1;32m     11\u001b[0m \u001b[0mprint\u001b[0m\u001b[0;34m(\u001b[0m\u001b[0mlllist\u001b[0m\u001b[0;34m)\u001b[0m\u001b[0;34m\u001b[0m\u001b[0;34m\u001b[0m\u001b[0m\n",
      "\u001b[0;32m<ipython-input-42-1e2afab6042f>\u001b[0m in \u001b[0;36madd_before\u001b[0;34m(self, target_node_data, new_node)\u001b[0m\n\u001b[1;32m     71\u001b[0m             \u001b[0mpre_node\u001b[0m \u001b[0;34m=\u001b[0m \u001b[0mnode\u001b[0m\u001b[0;34m\u001b[0m\u001b[0;34m\u001b[0m\u001b[0m\n\u001b[1;32m     72\u001b[0m \u001b[0;34m\u001b[0m\u001b[0m\n\u001b[0;32m---> 73\u001b[0;31m         \u001b[0;32mraise\u001b[0m \u001b[0mException\u001b[0m\u001b[0;34m(\u001b[0m\u001b[0;34m\"There is an error\"\u001b[0m\u001b[0;34m)\u001b[0m\u001b[0;34m\u001b[0m\u001b[0;34m\u001b[0m\u001b[0m\n\u001b[0m\u001b[1;32m     74\u001b[0m \u001b[0;34m\u001b[0m\u001b[0m\n\u001b[1;32m     75\u001b[0m \u001b[0;34m\u001b[0m\u001b[0m\n",
      "\u001b[0;31mException\u001b[0m: There is an error"
     ]
    }
   ],
   "source": [
    "add_list = ['d', 'e', 'f']\n",
    "lllist = LinkedList(add_list)\n",
    "print(lllist)\n",
    "lllist.add_first(Node('v'))\n",
    "print(lllist)\n",
    "lllist.add_last(Node('s'))\n",
    "print(lllist)\n",
    "lllist.add_after('e', Node('k'))\n",
    "print(lllist)\n",
    "lllist.add_before('y', Node('e'))\n",
    "print(lllist)\n"
   ]
  },
  {
   "cell_type": "code",
   "execution_count": null,
   "id": "1da7dd26-9c6d-403c-8c57-6628a5fd1d2c",
   "metadata": {},
   "outputs": [],
   "source": []
  }
 ],
 "metadata": {
  "kernelspec": {
   "display_name": "Python 3",
   "language": "python",
   "name": "python3"
  },
  "language_info": {
   "codemirror_mode": {
    "name": "ipython",
    "version": 3
   },
   "file_extension": ".py",
   "mimetype": "text/x-python",
   "name": "python",
   "nbconvert_exporter": "python",
   "pygments_lexer": "ipython3",
   "version": "3.8.10"
  }
 },
 "nbformat": 4,
 "nbformat_minor": 5
}
